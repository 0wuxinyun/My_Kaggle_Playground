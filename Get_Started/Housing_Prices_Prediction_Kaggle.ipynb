{
 "cells": [
  {
   "cell_type": "code",
   "execution_count": 1,
   "metadata": {
    "_cell_guid": "b1076dfc-b9ad-4769-8c92-a6c4dae69d19",
    "_uuid": "8f2839f25d086af736a60e9eeb907d3b93b6e0e5",
    "execution": {
     "iopub.execute_input": "2021-02-10T14:34:54.702774Z",
     "iopub.status.busy": "2021-02-10T14:34:54.702004Z",
     "iopub.status.idle": "2021-02-10T14:34:54.717273Z",
     "shell.execute_reply": "2021-02-10T14:34:54.718307Z"
    },
    "papermill": {
     "duration": 0.040012,
     "end_time": "2021-02-10T14:34:54.718693",
     "exception": false,
     "start_time": "2021-02-10T14:34:54.678681",
     "status": "completed"
    },
    "tags": []
   },
   "outputs": [
    {
     "name": "stdout",
     "output_type": "stream",
     "text": [
      "/kaggle/input/home-data-for-ml-course/sample_submission.csv\n",
      "/kaggle/input/home-data-for-ml-course/sample_submission.csv.gz\n",
      "/kaggle/input/home-data-for-ml-course/train.csv.gz\n",
      "/kaggle/input/home-data-for-ml-course/data_description.txt\n",
      "/kaggle/input/home-data-for-ml-course/test.csv.gz\n",
      "/kaggle/input/home-data-for-ml-course/train.csv\n",
      "/kaggle/input/home-data-for-ml-course/test.csv\n"
     ]
    }
   ],
   "source": [
    "# This Python 3 environment comes with many helpful analytics libraries installed\n",
    "# It is defined by the kaggle/python Docker image: https://github.com/kaggle/docker-python\n",
    "# For example, here's several helpful packages to load\n",
    "\n",
    "import numpy as np # linear algebra\n",
    "import pandas as pd # data processing, CSV file I/O (e.g. pd.read_csv)\n",
    "\n",
    "# Input data files are available in the read-only \"../input/\" directory\n",
    "# For example, running this (by clicking run or pressing Shift+Enter) will list all files under the input directory\n",
    "\n",
    "import os\n",
    "for dirname, _, filenames in os.walk('/kaggle/input'):\n",
    "    for filename in filenames:\n",
    "        print(os.path.join(dirname, filename))\n",
    "\n",
    "# You can write up to 20GB to the current directory (/kaggle/working/) that gets preserved as output when you create a version using \"Save & Run All\" \n",
    "# You can also write temporary files to /kaggle/temp/, but they won't be saved outside of the current session\n",
    "%config Completer.use_jedi = False"
   ]
  },
  {
   "cell_type": "markdown",
   "metadata": {
    "papermill": {
     "duration": 0.014278,
     "end_time": "2021-02-10T14:34:54.749255",
     "exception": false,
     "start_time": "2021-02-10T14:34:54.734977",
     "status": "completed"
    },
    "tags": []
   },
   "source": [
    "# Setup :\n",
    "To Turn on Kaggle Auto Complet use  : ***%config Completer.use_jedi = False***\n",
    "\n",
    "**Tasks :**\n",
    "- Import data \n",
    "- Columns classification\n",
    "- Split data"
   ]
  },
  {
   "cell_type": "code",
   "execution_count": 2,
   "metadata": {
    "execution": {
     "iopub.execute_input": "2021-02-10T14:34:54.781641Z",
     "iopub.status.busy": "2021-02-10T14:34:54.780765Z",
     "iopub.status.idle": "2021-02-10T14:34:54.892335Z",
     "shell.execute_reply": "2021-02-10T14:34:54.891096Z"
    },
    "papermill": {
     "duration": 0.128999,
     "end_time": "2021-02-10T14:34:54.892493",
     "exception": false,
     "start_time": "2021-02-10T14:34:54.763494",
     "status": "completed"
    },
    "tags": []
   },
   "outputs": [],
   "source": [
    "import os\n",
    "X_full = pd.read_csv('../input/home-data-for-ml-course/train.csv', index_col='Id')\n",
    "X_test_full = pd.read_csv('../input/home-data-for-ml-course/test.csv', index_col='Id')\n",
    "# Target : 'SalePrice' vertically \n",
    "X= X_full.drop(\"SalePrice\",axis=1)\n",
    "y=X_full[\"SalePrice\"]\n",
    "cols = X.columns"
   ]
  },
  {
   "cell_type": "code",
   "execution_count": 3,
   "metadata": {
    "execution": {
     "iopub.execute_input": "2021-02-10T14:34:54.932584Z",
     "iopub.status.busy": "2021-02-10T14:34:54.931773Z",
     "iopub.status.idle": "2021-02-10T14:34:54.960819Z",
     "shell.execute_reply": "2021-02-10T14:34:54.960261Z"
    },
    "papermill": {
     "duration": 0.053773,
     "end_time": "2021-02-10T14:34:54.961010",
     "exception": false,
     "start_time": "2021-02-10T14:34:54.907237",
     "status": "completed"
    },
    "tags": []
   },
   "outputs": [],
   "source": [
    "# What types of features are in the data\n",
    "# Find Important categorical data : \n",
    "cats=[cat for cat in cols if X[cat].dtype==\"object\" and X[cat].nunique()<10]\n",
    "nums=[num for num in cols if X[num].dtype in ['int64', 'float64']]\n",
    "# Find Important categorical data : \n",
    "# Concate all\n",
    "cols= cats+nums"
   ]
  },
  {
   "cell_type": "code",
   "execution_count": 4,
   "metadata": {
    "execution": {
     "iopub.execute_input": "2021-02-10T14:34:54.997254Z",
     "iopub.status.busy": "2021-02-10T14:34:54.996587Z",
     "iopub.status.idle": "2021-02-10T14:34:56.261012Z",
     "shell.execute_reply": "2021-02-10T14:34:56.261519Z"
    },
    "papermill": {
     "duration": 1.28517,
     "end_time": "2021-02-10T14:34:56.261732",
     "exception": false,
     "start_time": "2021-02-10T14:34:54.976562",
     "status": "completed"
    },
    "tags": []
   },
   "outputs": [],
   "source": [
    "# Split Data set \n",
    "from sklearn.model_selection import train_test_split as split\n",
    "X_train_full, X_valid_full, y_train, y_valid = split(X, y, \n",
    "                                                                train_size=0.8, test_size=0.2,\n",
    "                                                                random_state=1)\n",
    "X_train = X_train_full[cols].copy()\n",
    "X_valid = X_valid_full[cols].copy()\n",
    "X_test = X_test_full[cols].copy()\n",
    "X_full_end=X_full[cols].copy"
   ]
  },
  {
   "cell_type": "markdown",
   "metadata": {
    "papermill": {
     "duration": 0.014657,
     "end_time": "2021-02-10T14:34:56.291735",
     "exception": false,
     "start_time": "2021-02-10T14:34:56.277078",
     "status": "completed"
    },
    "tags": []
   },
   "source": [
    "# Prepocessing :\n",
    "\n",
    "Transfer the data \n",
    "\n",
    "- Missing values : imputer\n",
    "- Categorical values : One-Hot-Encoding"
   ]
  },
  {
   "cell_type": "code",
   "execution_count": 5,
   "metadata": {
    "execution": {
     "iopub.execute_input": "2021-02-10T14:34:56.327036Z",
     "iopub.status.busy": "2021-02-10T14:34:56.326285Z",
     "iopub.status.idle": "2021-02-10T14:34:56.533959Z",
     "shell.execute_reply": "2021-02-10T14:34:56.534500Z"
    },
    "papermill": {
     "duration": 0.2272,
     "end_time": "2021-02-10T14:34:56.534693",
     "exception": false,
     "start_time": "2021-02-10T14:34:56.307493",
     "status": "completed"
    },
    "tags": []
   },
   "outputs": [],
   "source": [
    "# Imputer\n",
    "from sklearn.impute import SimpleImputer as SImp\n",
    "# Numerical\n",
    "NImp = SImp(strategy=\"mean\")\n",
    "CImp = SImp(strategy=\"most_frequent\")\n",
    "# One hot encoding \n",
    "from sklearn.preprocessing import OneHotEncoder"
   ]
  },
  {
   "cell_type": "code",
   "execution_count": 6,
   "metadata": {
    "execution": {
     "iopub.execute_input": "2021-02-10T14:34:56.568425Z",
     "iopub.status.busy": "2021-02-10T14:34:56.567770Z",
     "iopub.status.idle": "2021-02-10T14:34:56.583872Z",
     "shell.execute_reply": "2021-02-10T14:34:56.584410Z"
    },
    "papermill": {
     "duration": 0.034632,
     "end_time": "2021-02-10T14:34:56.584616",
     "exception": false,
     "start_time": "2021-02-10T14:34:56.549984",
     "status": "completed"
    },
    "tags": []
   },
   "outputs": [],
   "source": [
    "# Build the prepocessing pipeline:\n",
    "from sklearn.pipeline import Pipeline\n",
    "\n",
    "# Categorical pipeline:\n",
    "CPipline=Pipeline(steps=[\n",
    "    (\"impute\",CImp),\n",
    "    (\"Encoding\",OneHotEncoder(handle_unknown='ignore'))\n",
    "])\n",
    "\n",
    "# Preprocessih\n",
    "from sklearn.compose import ColumnTransformer\n",
    "Preprocessing=ColumnTransformer(transformers=[\n",
    "    (\"Num\",NImp,nums),\n",
    "    (\"Cat\",CPipline,cats)\n",
    "])"
   ]
  },
  {
   "cell_type": "markdown",
   "metadata": {
    "papermill": {
     "duration": 0.015004,
     "end_time": "2021-02-10T14:34:56.615299",
     "exception": false,
     "start_time": "2021-02-10T14:34:56.600295",
     "status": "completed"
    },
    "tags": []
   },
   "source": [
    "# Model \n",
    "XGBoost\n"
   ]
  },
  {
   "cell_type": "code",
   "execution_count": 7,
   "metadata": {
    "execution": {
     "iopub.execute_input": "2021-02-10T14:34:56.650574Z",
     "iopub.status.busy": "2021-02-10T14:34:56.649863Z",
     "iopub.status.idle": "2021-02-10T14:34:57.097457Z",
     "shell.execute_reply": "2021-02-10T14:34:57.098016Z"
    },
    "papermill": {
     "duration": 0.466503,
     "end_time": "2021-02-10T14:34:57.098200",
     "exception": false,
     "start_time": "2021-02-10T14:34:56.631697",
     "status": "completed"
    },
    "tags": []
   },
   "outputs": [],
   "source": [
    "from xgboost import XGBRegressor as xgb\n",
    "model=xgb(n_estimators=1000,learning_rate=0.01)\n",
    "# Others : Eealy stop "
   ]
  },
  {
   "cell_type": "markdown",
   "metadata": {
    "papermill": {
     "duration": 0.015567,
     "end_time": "2021-02-10T14:34:57.129356",
     "exception": false,
     "start_time": "2021-02-10T14:34:57.113789",
     "status": "completed"
    },
    "tags": []
   },
   "source": [
    "# Compose the Whole Pipeline"
   ]
  },
  {
   "cell_type": "code",
   "execution_count": 8,
   "metadata": {
    "execution": {
     "iopub.execute_input": "2021-02-10T14:34:57.163906Z",
     "iopub.status.busy": "2021-02-10T14:34:57.163235Z",
     "iopub.status.idle": "2021-02-10T14:34:57.167278Z",
     "shell.execute_reply": "2021-02-10T14:34:57.167791Z"
    },
    "papermill": {
     "duration": 0.023134,
     "end_time": "2021-02-10T14:34:57.167996",
     "exception": false,
     "start_time": "2021-02-10T14:34:57.144862",
     "status": "completed"
    },
    "tags": []
   },
   "outputs": [],
   "source": [
    "pipline=Pipeline(steps=[\n",
    "    (\"Pre\",Preprocessing),\n",
    "    (\"model\",model)\n",
    "])"
   ]
  },
  {
   "cell_type": "markdown",
   "metadata": {
    "papermill": {
     "duration": 0.015157,
     "end_time": "2021-02-10T14:34:57.199515",
     "exception": false,
     "start_time": "2021-02-10T14:34:57.184358",
     "status": "completed"
    },
    "tags": []
   },
   "source": [
    "# Fitting "
   ]
  },
  {
   "cell_type": "code",
   "execution_count": 9,
   "metadata": {
    "execution": {
     "iopub.execute_input": "2021-02-10T14:34:57.233754Z",
     "iopub.status.busy": "2021-02-10T14:34:57.233128Z",
     "iopub.status.idle": "2021-02-10T14:35:03.333764Z",
     "shell.execute_reply": "2021-02-10T14:35:03.334651Z"
    },
    "papermill": {
     "duration": 6.120005,
     "end_time": "2021-02-10T14:35:03.334821",
     "exception": false,
     "start_time": "2021-02-10T14:34:57.214816",
     "status": "completed"
    },
    "tags": []
   },
   "outputs": [
    {
     "data": {
      "text/plain": [
       "Pipeline(steps=[('Pre',\n",
       "                 ColumnTransformer(transformers=[('Num', SimpleImputer(),\n",
       "                                                  ['MSSubClass', 'LotFrontage',\n",
       "                                                   'LotArea', 'OverallQual',\n",
       "                                                   'OverallCond', 'YearBuilt',\n",
       "                                                   'YearRemodAdd', 'MasVnrArea',\n",
       "                                                   'BsmtFinSF1', 'BsmtFinSF2',\n",
       "                                                   'BsmtUnfSF', 'TotalBsmtSF',\n",
       "                                                   '1stFlrSF', '2ndFlrSF',\n",
       "                                                   'LowQualFinSF', 'GrLivArea',\n",
       "                                                   'BsmtFullBath',\n",
       "                                                   'BsmtHalfBath', 'FullBath',\n",
       "                                                   'HalfBath', 'BedroomAbvGr...\n",
       "                              colsample_bytree=1, gamma=0, gpu_id=-1,\n",
       "                              importance_type='gain',\n",
       "                              interaction_constraints='', learning_rate=0.01,\n",
       "                              max_delta_step=0, max_depth=6, min_child_weight=1,\n",
       "                              missing=nan, monotone_constraints='()',\n",
       "                              n_estimators=1000, n_jobs=4, num_parallel_tree=1,\n",
       "                              random_state=0, reg_alpha=0, reg_lambda=1,\n",
       "                              scale_pos_weight=1, subsample=1,\n",
       "                              tree_method='exact', validate_parameters=1,\n",
       "                              verbosity=None))])"
      ]
     },
     "execution_count": 9,
     "metadata": {},
     "output_type": "execute_result"
    }
   ],
   "source": [
    "pipline.fit(X_train,y_train)"
   ]
  },
  {
   "cell_type": "code",
   "execution_count": 10,
   "metadata": {
    "execution": {
     "iopub.execute_input": "2021-02-10T14:35:03.376601Z",
     "iopub.status.busy": "2021-02-10T14:35:03.375605Z",
     "iopub.status.idle": "2021-02-10T14:35:03.399925Z",
     "shell.execute_reply": "2021-02-10T14:35:03.400467Z"
    },
    "papermill": {
     "duration": 0.049822,
     "end_time": "2021-02-10T14:35:03.400685",
     "exception": false,
     "start_time": "2021-02-10T14:35:03.350863",
     "status": "completed"
    },
    "tags": []
   },
   "outputs": [],
   "source": [
    "Vprediction=pipline.predict(X_valid)"
   ]
  },
  {
   "cell_type": "markdown",
   "metadata": {
    "papermill": {
     "duration": 0.015998,
     "end_time": "2021-02-10T14:35:03.435220",
     "exception": false,
     "start_time": "2021-02-10T14:35:03.419222",
     "status": "completed"
    },
    "tags": []
   },
   "source": [
    "# Evaluation"
   ]
  },
  {
   "cell_type": "code",
   "execution_count": 11,
   "metadata": {
    "execution": {
     "iopub.execute_input": "2021-02-10T14:35:03.473686Z",
     "iopub.status.busy": "2021-02-10T14:35:03.471923Z",
     "iopub.status.idle": "2021-02-10T14:35:03.477047Z",
     "shell.execute_reply": "2021-02-10T14:35:03.477575Z"
    },
    "papermill": {
     "duration": 0.026385,
     "end_time": "2021-02-10T14:35:03.477747",
     "exception": false,
     "start_time": "2021-02-10T14:35:03.451362",
     "status": "completed"
    },
    "tags": []
   },
   "outputs": [
    {
     "data": {
      "text/plain": [
       "15248.300901648116"
      ]
     },
     "execution_count": 11,
     "metadata": {},
     "output_type": "execute_result"
    }
   ],
   "source": [
    "from sklearn.metrics import mean_absolute_error as mae\n",
    "mae(Vprediction,y_valid)"
   ]
  },
  {
   "cell_type": "markdown",
   "metadata": {
    "papermill": {
     "duration": 0.016491,
     "end_time": "2021-02-10T14:35:03.510932",
     "exception": false,
     "start_time": "2021-02-10T14:35:03.494441",
     "status": "completed"
    },
    "tags": []
   },
   "source": [
    "# Train the whole \n"
   ]
  },
  {
   "cell_type": "code",
   "execution_count": 12,
   "metadata": {
    "execution": {
     "iopub.execute_input": "2021-02-10T14:35:03.547450Z",
     "iopub.status.busy": "2021-02-10T14:35:03.546763Z",
     "iopub.status.idle": "2021-02-10T14:35:11.663620Z",
     "shell.execute_reply": "2021-02-10T14:35:11.664149Z"
    },
    "papermill": {
     "duration": 8.136983,
     "end_time": "2021-02-10T14:35:11.664330",
     "exception": false,
     "start_time": "2021-02-10T14:35:03.527347",
     "status": "completed"
    },
    "tags": []
   },
   "outputs": [
    {
     "data": {
      "text/plain": [
       "Pipeline(steps=[('Pre',\n",
       "                 ColumnTransformer(transformers=[('Num', SimpleImputer(),\n",
       "                                                  ['MSSubClass', 'LotFrontage',\n",
       "                                                   'LotArea', 'OverallQual',\n",
       "                                                   'OverallCond', 'YearBuilt',\n",
       "                                                   'YearRemodAdd', 'MasVnrArea',\n",
       "                                                   'BsmtFinSF1', 'BsmtFinSF2',\n",
       "                                                   'BsmtUnfSF', 'TotalBsmtSF',\n",
       "                                                   '1stFlrSF', '2ndFlrSF',\n",
       "                                                   'LowQualFinSF', 'GrLivArea',\n",
       "                                                   'BsmtFullBath',\n",
       "                                                   'BsmtHalfBath', 'FullBath',\n",
       "                                                   'HalfBath', 'BedroomAbvGr...\n",
       "                              colsample_bytree=1, gamma=0, gpu_id=-1,\n",
       "                              importance_type='gain',\n",
       "                              interaction_constraints='', learning_rate=0.01,\n",
       "                              max_delta_step=0, max_depth=6, min_child_weight=1,\n",
       "                              missing=nan, monotone_constraints='()',\n",
       "                              n_estimators=1000, n_jobs=4, num_parallel_tree=1,\n",
       "                              random_state=0, reg_alpha=0, reg_lambda=1,\n",
       "                              scale_pos_weight=1, subsample=1,\n",
       "                              tree_method='exact', validate_parameters=1,\n",
       "                              verbosity=None))])"
      ]
     },
     "execution_count": 12,
     "metadata": {},
     "output_type": "execute_result"
    }
   ],
   "source": [
    "# Train the whole \n",
    "pipline.fit(X[cols],y)"
   ]
  },
  {
   "cell_type": "code",
   "execution_count": 13,
   "metadata": {
    "execution": {
     "iopub.execute_input": "2021-02-10T14:35:11.702476Z",
     "iopub.status.busy": "2021-02-10T14:35:11.701781Z",
     "iopub.status.idle": "2021-02-10T14:35:11.765180Z",
     "shell.execute_reply": "2021-02-10T14:35:11.765814Z"
    },
    "papermill": {
     "duration": 0.083983,
     "end_time": "2021-02-10T14:35:11.766047",
     "exception": false,
     "start_time": "2021-02-10T14:35:11.682064",
     "status": "completed"
    },
    "tags": []
   },
   "outputs": [],
   "source": [
    "Aprediction=pipline.predict(X[cols])"
   ]
  },
  {
   "cell_type": "code",
   "execution_count": 14,
   "metadata": {
    "execution": {
     "iopub.execute_input": "2021-02-10T14:35:11.810083Z",
     "iopub.status.busy": "2021-02-10T14:35:11.809296Z",
     "iopub.status.idle": "2021-02-10T14:35:11.812211Z",
     "shell.execute_reply": "2021-02-10T14:35:11.812714Z"
    },
    "papermill": {
     "duration": 0.027233,
     "end_time": "2021-02-10T14:35:11.812903",
     "exception": false,
     "start_time": "2021-02-10T14:35:11.785670",
     "status": "completed"
    },
    "tags": []
   },
   "outputs": [
    {
     "data": {
      "text/plain": [
       "4562.306862692637"
      ]
     },
     "execution_count": 14,
     "metadata": {},
     "output_type": "execute_result"
    }
   ],
   "source": [
    "mae(Aprediction,y)"
   ]
  },
  {
   "cell_type": "markdown",
   "metadata": {
    "papermill": {
     "duration": 0.017229,
     "end_time": "2021-02-10T14:35:11.847687",
     "exception": false,
     "start_time": "2021-02-10T14:35:11.830458",
     "status": "completed"
    },
    "tags": []
   },
   "source": [
    "# Submit"
   ]
  },
  {
   "cell_type": "code",
   "execution_count": 15,
   "metadata": {
    "execution": {
     "iopub.execute_input": "2021-02-10T14:35:11.886709Z",
     "iopub.status.busy": "2021-02-10T14:35:11.886053Z",
     "iopub.status.idle": "2021-02-10T14:35:11.950342Z",
     "shell.execute_reply": "2021-02-10T14:35:11.949672Z"
    },
    "papermill": {
     "duration": 0.084825,
     "end_time": "2021-02-10T14:35:11.950510",
     "exception": false,
     "start_time": "2021-02-10T14:35:11.865685",
     "status": "completed"
    },
    "tags": []
   },
   "outputs": [],
   "source": [
    "Tprediction=pipline.predict(X_test)"
   ]
  },
  {
   "cell_type": "code",
   "execution_count": 16,
   "metadata": {
    "execution": {
     "iopub.execute_input": "2021-02-10T14:35:11.994987Z",
     "iopub.status.busy": "2021-02-10T14:35:11.994322Z",
     "iopub.status.idle": "2021-02-10T14:35:12.006436Z",
     "shell.execute_reply": "2021-02-10T14:35:12.005691Z"
    },
    "papermill": {
     "duration": 0.035628,
     "end_time": "2021-02-10T14:35:12.006596",
     "exception": false,
     "start_time": "2021-02-10T14:35:11.970968",
     "status": "completed"
    },
    "tags": []
   },
   "outputs": [],
   "source": [
    "output = pd.DataFrame({'Id': X_test.index,\n",
    "                       'SalePrice': Tprediction})\n",
    "output.to_csv('submission.csv', index=False)"
   ]
  },
  {
   "cell_type": "code",
   "execution_count": null,
   "metadata": {
    "papermill": {
     "duration": 0.017927,
     "end_time": "2021-02-10T14:35:12.042569",
     "exception": false,
     "start_time": "2021-02-10T14:35:12.024642",
     "status": "completed"
    },
    "tags": []
   },
   "outputs": [],
   "source": []
  }
 ],
 "metadata": {
  "kernelspec": {
   "display_name": "Python 3",
   "language": "python",
   "name": "python3"
  },
  "language_info": {
   "codemirror_mode": {
    "name": "ipython",
    "version": 3
   },
   "file_extension": ".py",
   "mimetype": "text/x-python",
   "name": "python",
   "nbconvert_exporter": "python",
   "pygments_lexer": "ipython3",
   "version": "3.7.9"
  },
  "papermill": {
   "default_parameters": {},
   "duration": 24.305106,
   "end_time": "2021-02-10T14:35:12.670809",
   "environment_variables": {},
   "exception": null,
   "input_path": "__notebook__.ipynb",
   "output_path": "__notebook__.ipynb",
   "parameters": {},
   "start_time": "2021-02-10T14:34:48.365703",
   "version": "2.2.2"
  }
 },
 "nbformat": 4,
 "nbformat_minor": 4
}
